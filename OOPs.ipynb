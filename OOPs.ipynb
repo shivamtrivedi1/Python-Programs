{
 "cells": [
  {
   "cell_type": "markdown",
   "id": "0383e928",
   "metadata": {},
   "source": [
    "# Classes And Instances"
   ]
  },
  {
   "cell_type": "code",
   "execution_count": 3,
   "id": "8b45740f",
   "metadata": {},
   "outputs": [],
   "source": [
    "class Employee:\n",
    "    def __init__(self,first,last,pay):\n",
    "        self.first=first\n",
    "        self.last=last\n",
    "        self.pay=pay\n",
    "        self.email=self.first+'.'+self.last+\"@gmail.com\"\n",
    "    def Fullname(self):\n",
    "        return self.first+self.last\n",
    "        "
   ]
  },
  {
   "cell_type": "code",
   "execution_count": 5,
   "id": "93bb0aa3",
   "metadata": {},
   "outputs": [
    {
     "name": "stdout",
     "output_type": "stream",
     "text": [
      "Shivam\n",
      "ShivamTrivedi\n"
     ]
    }
   ],
   "source": [
    "e1=Employee(\"Shivam\",\"Trivedi\",20000)\n",
    "print(e1.first)\n",
    "print(e1.Fullname())"
   ]
  },
  {
   "cell_type": "markdown",
   "id": "5ea0c438",
   "metadata": {},
   "source": [
    "# Inheritance"
   ]
  },
  {
   "cell_type": "code",
   "execution_count": 1,
   "id": "30607f49",
   "metadata": {},
   "outputs": [],
   "source": [
    "class Animal:\n",
    "    \n",
    "    def __init__(self, name, category, age):\n",
    "        self.name = name\n",
    "        self.category = category\n",
    "        self.age = age\n",
    "    \n",
    "    def show_animal_details(self):\n",
    "        print(\"The name of animal is \", self.name)\n",
    "        print(\"The category of animal is \", self.category)\n",
    "        print(\"The age of animal is \", self.age)\n",
    "    "
   ]
  },
  {
   "cell_type": "code",
   "execution_count": 6,
   "id": "26c5d7dc",
   "metadata": {},
   "outputs": [],
   "source": [
    "class Cat(Animal):\n",
    "    \n",
    "    def __init__(self, name, category, age, paws):\n",
    "        super().__init__(name, category, age)\n",
    "        self.number_of_paws = paws\n",
    "        print(\"A cat has\", self.number_of_paws , \"paws\")"
   ]
  },
  {
   "cell_type": "code",
   "execution_count": 7,
   "id": "8bb61cac",
   "metadata": {},
   "outputs": [],
   "source": [
    "class Butterfly(Animal):\n",
    "    \n",
    "    def __init__(self, name, category, age, paws):\n",
    "        super.__init__(name,category,age)\n",
    "        self.number_of_wings = paws\n",
    "        print(\"A butterfly has\", self.number_of_wings, \"wings\")\n",
    "        \n",
    "class Fish(Animal):\n",
    "    \n",
    "    def __init__(self, name, category, age, paws):\n",
    "        super().__init__(name, category, age)\n",
    "        self.number_of_fins = paws\n",
    "        print(\"A fish has\", self.number_of_fins, \"fins\")\n",
    "        "
   ]
  },
  {
   "cell_type": "code",
   "execution_count": 8,
   "id": "9e191b05",
   "metadata": {},
   "outputs": [
    {
     "name": "stdout",
     "output_type": "stream",
     "text": [
      "A cat has 4 paws\n",
      "The name of animal is  cat\n",
      "The category of animal is  mammal\n",
      "The age of animal is  5\n"
     ]
    }
   ],
   "source": [
    "cat = Cat(\"cat\",\"mammal\",5, 4)\n",
    "cat.show_animal_details()"
   ]
  },
  {
   "cell_type": "code",
   "execution_count": 5,
   "id": "cb06e501",
   "metadata": {},
   "outputs": [
    {
     "name": "stdout",
     "output_type": "stream",
     "text": [
      "A fish has 4 fins\n",
      "The name of animal is  fish\n",
      "The category of animal is  bony_fish\n",
      "The age of animal is  10\n",
      "A butterfly has 4 wings\n",
      "The name of animal is  butterfly\n",
      "The category of animal is  insect\n",
      "The age of animal is  10\n"
     ]
    }
   ],
   "source": [
    "fish = Fish(\"fish\",\"bony_fish\", 10, 4)\n",
    "fish.show_animal_details()\n",
    "butterfly = Butterfly(\"butterfly\",\"insect\", 10, 4)\n",
    "butterfly.show_animal_details()"
   ]
  },
  {
   "cell_type": "markdown",
   "id": "caa6d6a9",
   "metadata": {},
   "source": [
    "# Polymorphism"
   ]
  },
  {
   "cell_type": "code",
   "execution_count": 10,
   "id": "5f84cb6f",
   "metadata": {},
   "outputs": [
    {
     "name": "stdout",
     "output_type": "stream",
     "text": [
      "This is a fruit\n",
      "Apple color is red\n",
      "Banana is a fruit\n",
      "Banana color is yellow\n",
      "Onion is a vegetable\n",
      "Onion color is purple\n"
     ]
    }
   ],
   "source": [
    "class Apple():\n",
    "    def type(self):\n",
    "        print(\"This is a fruit\")\n",
    "    def color(self):\n",
    "        print(\"Apple color is red\")\n",
    "class Banana():\n",
    "    def type(self):\n",
    "        print(\"Banana is a fruit\")\n",
    "    def color(self):\n",
    "        print(\"Banana color is yellow\")\n",
    "class onion():\n",
    "    def type(self):\n",
    "        print(\"Onion is a vegetable\")\n",
    "    def color(self):\n",
    "        print(\"Onion color is purple\")\n",
    "def classCall(obj):\n",
    "    obj.type()\n",
    "    obj.color()\n",
    "#creating the object of the class\n",
    "obj1=Apple()\n",
    "obj2=Banana()\n",
    "obj3=onion()\n",
    "classCall(obj1)\n",
    "classCall(obj2)\n",
    "classCall(obj3)"
   ]
  },
  {
   "cell_type": "markdown",
   "id": "0d193368",
   "metadata": {},
   "source": [
    "# Overloading"
   ]
  },
  {
   "cell_type": "code",
   "execution_count": 20,
   "id": "e187d732",
   "metadata": {},
   "outputs": [],
   "source": [
    "def add(dtype,*args):\n",
    "    if dtype=='int':\n",
    "        add=0\n",
    "    elif dtype=='str':\n",
    "        add=''\n",
    "    \n",
    "    for x in args: \n",
    "            add=add+x\n",
    "    print(add)\n",
    "    \n",
    "    \n",
    "        "
   ]
  },
  {
   "cell_type": "code",
   "execution_count": 21,
   "id": "84c929f9",
   "metadata": {},
   "outputs": [
    {
     "name": "stdout",
     "output_type": "stream",
     "text": [
      "ShivamTrivedi\n"
     ]
    }
   ],
   "source": [
    "add('str',\"Shivam\",'Trivedi')"
   ]
  },
  {
   "cell_type": "code",
   "execution_count": null,
   "id": "a3b0ac0a",
   "metadata": {},
   "outputs": [],
   "source": []
  },
  {
   "cell_type": "markdown",
   "id": "27105fbf",
   "metadata": {},
   "source": [
    "# Magic Methods"
   ]
  },
  {
   "cell_type": "code",
   "execution_count": 4,
   "id": "5a31cca0",
   "metadata": {},
   "outputs": [
    {
     "name": "stdout",
     "output_type": "stream",
     "text": [
      "200\n"
     ]
    }
   ],
   "source": [
    "# .__add__()\n",
    "\n",
    "class Weight:\n",
    "    def __init__(self, kilos):\n",
    "        self.kilos = kilos\n",
    "    \n",
    "    def __add__(self, otherWeight):\n",
    "        \n",
    "        return Weight(self.kilos + otherWeight.kilos)\n",
    "\n",
    "w1 = Weight(50)\n",
    "w2 = Weight(150)\n",
    "tot = w1 + w2\n",
    "print(tot.kilos)\n"
   ]
  },
  {
   "cell_type": "code",
   "execution_count": null,
   "id": "d83486dc",
   "metadata": {},
   "outputs": [],
   "source": []
  }
 ],
 "metadata": {
  "kernelspec": {
   "display_name": "Python 3",
   "language": "python",
   "name": "python3"
  },
  "language_info": {
   "codemirror_mode": {
    "name": "ipython",
    "version": 3
   },
   "file_extension": ".py",
   "mimetype": "text/x-python",
   "name": "python",
   "nbconvert_exporter": "python",
   "pygments_lexer": "ipython3",
   "version": "3.8.3"
  }
 },
 "nbformat": 4,
 "nbformat_minor": 5
}
