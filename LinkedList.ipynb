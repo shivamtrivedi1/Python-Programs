{
 "cells": [
  {
   "cell_type": "code",
   "execution_count": 5,
   "id": "ffdc561b",
   "metadata": {},
   "outputs": [],
   "source": [
    "class Node:\n",
    "    def __init__(self,data):\n",
    "        self.data=data\n",
    "        self.next=None\n",
    "    \n",
    "class LinkedList:\n",
    "    def __init__(self):\n",
    "        self.head=None\n",
    "    def insertEnd(self,new_node):\n",
    "        if self.head is None:\n",
    "            self.head=new_node\n",
    "        else:\n",
    "            last_node=self.head\n",
    "            while(True):\n",
    "                \n",
    "                if(last_node.next is None):\n",
    "                    break;\n",
    "                last_node=last_node.next\n",
    "            last_node.next=new_node\n",
    "    def display(self):\n",
    "        if self.head is None:\n",
    "            print(\"Linked List is empty\")\n",
    "        cur_node=self.head;\n",
    "        while(True):\n",
    "            if(cur_node is None):\n",
    "                break\n",
    "\n",
    "            else:\n",
    "                print(cur_node.data)\n",
    "                cur_node=cur_node.next\n",
    "    def lengthLinkedList(self):\n",
    "        cur_node=self.head;\n",
    "        len=0\n",
    "        while(cur_node is None):\n",
    "            len+=1\n",
    "            cur_node=cur_node.next\n",
    "        return len;\n",
    "    def InsertNodeAtBeginning(self,new_node):\n",
    "        if self.head is None:\n",
    "            self.head=new_node\n",
    "        else:\n",
    "            new_node.next=self.head;\n",
    "            self.head=new_node\n",
    "            \n",
    "    def InsertNodeAtPosition(self,new_node,position):\n",
    "        if position==0:\n",
    "            self.InsertNodeAtBeginning(new_node)\n",
    "        elif(position<0 or position>self.lengthLinkedList()):\n",
    "            print(\"Invalid Position Input\")\n",
    "        else:\n",
    "            pos=0\n",
    "            cur_node=self.head\n",
    "            while(True):\n",
    "                if(pos==position):\n",
    "                    break;\n",
    "                else:\n",
    "                    pos=pos+1\n",
    "                    prev_node=cur_node\n",
    "                    cur_node=cur_node.next\n",
    "            new_node.next=cur_node\n",
    "            prev_node.next=new_node\n",
    "    def deleteEnd(self):\n",
    "        last_node=self.head\n",
    "        if(self.head is None):\n",
    "            print(\"Linked list Underflow\")\n",
    "        \n",
    "        elif(self.head.next is None):\n",
    "            self.head=None;\n",
    "        else:\n",
    "            while(last_node.next is not None):\n",
    "                prev_node=last_node\n",
    "                last_node=last_node.next\n",
    "            prev_node.next=None\n",
    "        \n",
    "        \n",
    "            "
   ]
  },
  {
   "cell_type": "code",
   "execution_count": 12,
   "id": "af8dbb26",
   "metadata": {},
   "outputs": [
    {
     "name": "stdout",
     "output_type": "stream",
     "text": [
      "Invalid Position Input\n",
      "Shivaay\n",
      "Shivam\n",
      "Shyam\n"
     ]
    }
   ],
   "source": [
    "firstnode=Node(\"Shivam\")\n",
    "linkedlist=LinkedList()\n",
    "linkedlist.insertEnd(firstnode);\n",
    "secondnode=Node(\"Shyam\")\n",
    "linkedlist.insertEnd(secondnode)\n",
    "node=Node(\"Shivaay\")\n",
    "linkedlist.InsertNodeAtBeginning(node)\n",
    "nodepos=Node(\"Shiv\")\n",
    "linkedlist.InsertNodeAtPosition(nodepos,-1)\n",
    "\n",
    "\n",
    "linkedlist.display()"
   ]
  },
  {
   "cell_type": "code",
   "execution_count": 9,
   "id": "a901d460",
   "metadata": {},
   "outputs": [
    {
     "name": "stdout",
     "output_type": "stream",
     "text": [
      "Linked List is empty\n"
     ]
    }
   ],
   "source": []
  },
  {
   "cell_type": "code",
   "execution_count": null,
   "id": "2bd64c88",
   "metadata": {},
   "outputs": [],
   "source": []
  }
 ],
 "metadata": {
  "kernelspec": {
   "display_name": "Python 3",
   "language": "python",
   "name": "python3"
  },
  "language_info": {
   "codemirror_mode": {
    "name": "ipython",
    "version": 3
   },
   "file_extension": ".py",
   "mimetype": "text/x-python",
   "name": "python",
   "nbconvert_exporter": "python",
   "pygments_lexer": "ipython3",
   "version": "3.8.3"
  }
 },
 "nbformat": 4,
 "nbformat_minor": 5
}
