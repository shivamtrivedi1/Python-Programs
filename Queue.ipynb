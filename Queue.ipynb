{
 "cells": [
  {
   "cell_type": "code",
   "execution_count": 4,
   "id": "0e0201a3",
   "metadata": {},
   "outputs": [
    {
     "name": "stdout",
     "output_type": "stream",
     "text": [
      "Enter the size of queue5\n",
      "Enter the choice-> 1:Enqueue 2:Dequeue 3:Display 4:Exit1\n",
      "Enter the element4\n",
      "Enter the choice-> 1:Enqueue 2:Dequeue 3:Display 4:Exit1\n",
      "Enter the element5\n",
      "Enter the choice-> 1:Enqueue 2:Dequeue 3:Display 4:Exit3\n",
      "[4, 5]\n",
      "Enter the choice-> 1:Enqueue 2:Dequeue 3:Display 4:Exit4\n"
     ]
    }
   ],
   "source": [
    "Queue_size=int(input(\"Enter the size of queue\"))\n",
    "q=[]\n",
    "def Enqueue():\n",
    "    if(len(q)==Queue_size):\n",
    "        print(\"Queue Overflow\")\n",
    "    else:\n",
    "        x=int(input(\"Enter the element\"))\n",
    "        q.append(x);\n",
    "def Dequeue():\n",
    "    if(len(q)==0):\n",
    "        print(\"Queue Underflow\")\n",
    "    else:\n",
    "        x=q.pop(0)\n",
    "        print(x,\"element is deleted from queue\");\n",
    "        \n",
    "def Display():\n",
    "    print(q);\n",
    "\n",
    "while(True):\n",
    "    choice=int(input(\"Enter the choice-> 1:Enqueue 2:Dequeue 3:Display 4:Exit\" ));\n",
    "    if(choice==1):\n",
    "        Enqueue();\n",
    "    elif(choice==2):\n",
    "        Dequeue();\n",
    "    elif(choice==3):\n",
    "        Display();\n",
    "    \n",
    "    elif(choice==4):\n",
    "        break;\n",
    "    else:\n",
    "        print(\"Invalid Choice\")\n",
    "    "
   ]
  },
  {
   "cell_type": "code",
   "execution_count": null,
   "id": "93bf4dbc",
   "metadata": {},
   "outputs": [],
   "source": []
  }
 ],
 "metadata": {
  "kernelspec": {
   "display_name": "Python 3",
   "language": "python",
   "name": "python3"
  },
  "language_info": {
   "codemirror_mode": {
    "name": "ipython",
    "version": 3
   },
   "file_extension": ".py",
   "mimetype": "text/x-python",
   "name": "python",
   "nbconvert_exporter": "python",
   "pygments_lexer": "ipython3",
   "version": "3.8.3"
  }
 },
 "nbformat": 4,
 "nbformat_minor": 5
}
