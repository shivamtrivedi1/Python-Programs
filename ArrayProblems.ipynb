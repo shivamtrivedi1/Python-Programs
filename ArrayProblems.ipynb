{
 "cells": [
  {
   "cell_type": "code",
   "execution_count": 3,
   "id": "3dc12514",
   "metadata": {},
   "outputs": [],
   "source": [
    "import math\n",
    "def SegNegLeft(A):\n",
    "    n=len(A)\n",
    "    i=-1\n",
    "    j=0\n",
    "    while(j<n):\n",
    "        if(A[j]<0):\n",
    "            i+=1\n",
    "            A[i],A[j]=A[j],A[i]\n",
    "        j+=1\n",
    "    return A\n",
    "\n",
    "def ReverseArray(A):\n",
    "    l=0;\n",
    "    r=len(A)-1\n",
    "    while(l<r):\n",
    "        A[l],A[r]=A[r],A[l]\n",
    "        l=l+1\n",
    "        r=r-1\n",
    "    return A\n",
    "\n",
    "def MulNumExceptThatInd(a):\n",
    "    m=1\n",
    "    l=a.copy()\n",
    "    print(l)\n",
    "    for x in a:\n",
    "        m=m*x\n",
    "\n",
    "    for i in range(len(a)):\n",
    "        l[i]=m//l[i]\n",
    "    return l\n",
    " \n",
    "def ContiguousSubArraySum(a,k):\n",
    "    sumdic={} # Key=prefix sum and value=index\n",
    "    csum=0\n",
    "    for i in range(0,len(a)):\n",
    "        csum+=a[i]\n",
    "        if csum==k:\n",
    "            print(\"Required sum is found from 0th index to\",i)\n",
    "            return\n",
    "        if csum-k in sumdic.keys():\n",
    "            print(\"Required sum is present from \",(sumdic[csum-k]+1),\" index to index\",i)\n",
    "            return\n",
    "        sumdic[csum]=i\n",
    "    \n",
    "    print(\"Required sum= \",k,\"is not possible in\",a) \n",
    "    \n",
    "def CountSubArraySum(a,k):\n",
    "    d={0:1}  #key=prefixSum value=count\n",
    "    cnt=0\n",
    "    csum=0\n",
    "    for x in a:\n",
    "        csum+=x;\n",
    "        diff=csum-k    #diff is used to find ways to get desired sum\n",
    "        cnt+=d.get(diff,0)\n",
    "        d[csum]=1+d.get(csum,0)\n",
    "    return cnt;\n",
    "\n",
    "def SortArrayMet1_0_1_2(l):\n",
    "    d1={};\n",
    "    for x in l:\n",
    "        if x in d1.keys():\n",
    "            d1[x]+=1;\n",
    "        else:\n",
    "            d1[x]=1\n",
    "    \n",
    "    len1=len(l)\n",
    "    l1=[]\n",
    "    cnt0=d1.get(0,0)\n",
    "    cnt1=d1.get(1,0)\n",
    "    cnt2=d1.get(2,0)\n",
    "    while(cnt0!=0):\n",
    "        l1.append(0)\n",
    "        cnt0=cnt0-1\n",
    "    \n",
    "    while(cnt1!=0):\n",
    "        l1.append(1)\n",
    "        cnt1=cnt1-1\n",
    "    \n",
    "    while(cnt2!=0):\n",
    "        l1.append(2)\n",
    "        cnt2=cnt2-1\n",
    "\n",
    "    return l1;\n",
    "    \n",
    "def sortMet2_0_1_2(a) :\n",
    "\tl=0\n",
    "\tm=0\n",
    "\th=len(a)-1\n",
    "\twhile(m<=h):\n",
    "\t\tif(a[m]==0):\n",
    "\t\t\ta[l],a[m]=a[m],a[l];\n",
    "\t\t\tm=m+1\n",
    "\t\t\tl=l+1\n",
    "\t\telif(a[m]==1):\n",
    "\t\t\tm=m+1\n",
    "\t\telse:\n",
    "\t\t\ta[h],a[m]=a[m],a[h];\n",
    "\t\t\th=h-1;\n",
    "\treturn a\n",
    "\n",
    "def MergeInterval(Intervals):\n",
    "    if len(Intervals)==0:\n",
    "        return Intervals\n",
    "    Intervals.sort()\n",
    "    res=[]\n",
    "    start=Intervals[0][0]\n",
    "    end=Intervals[0][1]\n",
    "    for Inter in Intervals:\n",
    "        if(Inter[0]<end):\n",
    "            end=max(end,Inter[1]);\n",
    "        else:\n",
    "            res.append([start,end])\n",
    "            start=Inter[0]\n",
    "            end=Inter[1]\n",
    "    res.append([start,end])        \n",
    "    return res;\n",
    "\n",
    "def RepeatNum(L):\n",
    "    d1={}\n",
    "   \n",
    "    d1=dict.fromkeys(range(1,len(L)+1),0)\n",
    "    for i in range(len(L)):\n",
    "        if(d1[L[i]]==0):\n",
    "            d1[L[i]]+=1\n",
    "        else:\n",
    "            return L[i]\n",
    "        \n",
    "        \n",
    "def MergeSortIC(arr,temp,left,right):\n",
    "    inv_cnt=0;\n",
    "    if(left<right):\n",
    "        mid=(left+right)//2\n",
    "        inv_cnt=inv_cnt+MergeSortIC(arr,temp,left,mid);\n",
    "        print(inv_cnt)\n",
    "        inv_cnt=inv_cnt+MergeSortIC(arr,temp,mid+1,right);\n",
    "        print(inv_cnt)\n",
    "        MergeInversion(arr,temp,left,mid,right);\n",
    "    return inv_cnt;\n",
    "\n",
    "def MergeInversion(arr,temp,left,mid,right):\n",
    "    n1=mid-left+1\n",
    "    n2=right-mid\n",
    "   \n",
    "    inv_cnt=0\n",
    "    i=left\n",
    "    j=mid+1;\n",
    "    k=left\n",
    "   \n",
    "    while(i <= mid and j <=right):\n",
    "        if(arr[i]<=arr[j]):\n",
    "         \n",
    "            temp[k]=arr[i]\n",
    "            \n",
    "            k=k+1\n",
    "            i=i+1\n",
    "        \n",
    "        else:\n",
    "            print(2)\n",
    "            temp[k]=arr[j];\n",
    "            inv_cnt=inv_cnt+(mid-i)+1;\n",
    "            k=k+1;\n",
    "            j=j+1\n",
    "            \n",
    "            print(inv_cnt)\n",
    "    while(i<n1):\n",
    "        temp[k]=temp[i]\n",
    "        k=k+1\n",
    "        i=i+1\n",
    "    while(j<n2):\n",
    "        temp[k]=temp[j]\n",
    "        k=k+1\n",
    "        j=j+1\n",
    "    for i in range(left,right+1):\n",
    "        arr[i]=temp[i];\n",
    "    \n",
    "    \n",
    "    return inv_cnt;\n",
    "     \n",
    "def MissRepeat(arr):\n",
    "    d1={};\n",
    "    repeat=0\n",
    "    mis_num=0\n",
    "    d1=d1.fromkeys(range(1,len(arr)),0)\n",
    "    print(d1)\n",
    "    for x in arr:\n",
    "        if x in d1:\n",
    "            d1[x]+=1\n",
    "        else:\n",
    "            d1[x]=1;\n",
    "    for key,value in d1.items():\n",
    "        if(value==0):\n",
    "            mis_num=key\n",
    "        elif(value==2):\n",
    "            repeat=key;\n",
    "    print(\"miss=\",mis_num)\n",
    "    print(\"repeat=\",repeat)\n",
    "\t#return repeat,mis_num\n",
    "            \n",
    "def RemovesDuplicates(str,n):\n",
    "    Set=set()\n",
    "    res_str=\"\"\n",
    "    for s in str:\n",
    "        Set.add(s);\n",
    "    for x in Set:\n",
    "        res_str+=x\n",
    "    return res_str;\n",
    "\n",
    "def SortString(str):\n",
    "    sort_str_ls=sorted(str)\n",
    "    sort_str=''.join(sort_str_ls)\n",
    "    return sort_str;\n",
    "\n",
    "def CountEqualStrings(arr):\n",
    "    max_count=0\n",
    "    d1={}\n",
    "    for i in range(len(arr)):\n",
    "        arr[i]=RemovesDuplicates(arr[i],len(arr[i]))\n",
    "    for i in range(len(arr)):\n",
    "        arr[i] =SortString(arr[i])\n",
    "    print(arr)    \n",
    "        \n",
    "    for x in arr:\n",
    "        if x in d1:\n",
    "            d1[x]+=1\n",
    "        else:\n",
    "            d1[x]=1\n",
    "    for key,values in d1.items():\n",
    "        if d1[key]>max_count:\n",
    "            max_count=d1[key]\n",
    "    print(d1)        \n",
    "    return max_count;\n",
    "\n",
    "def MinDiffSubArray(arr,n,m):\n",
    "    arr.sort()\n",
    "    min_diff=math.inf\n",
    "    for i in range(0,n-m+1):\n",
    "        min_diff=min(min_diff,arr[m+i-1]-arr[i])\n",
    "    return min_diff;\n",
    "        \n",
    "    \n",
    "                        \n",
    "        \n",
    "    \n",
    "    \n",
    "        \n",
    "    \n",
    "        \n",
    "    \n",
    " "
   ]
  },
  {
   "cell_type": "code",
   "execution_count": 7,
   "id": "94f62933",
   "metadata": {},
   "outputs": [
    {
     "data": {
      "text/plain": [
       "[5, 4, 3, 2, 1]"
      ]
     },
     "execution_count": 7,
     "metadata": {},
     "output_type": "execute_result"
    }
   ],
   "source": [
    "A1=[1,2,3,4,5]\n",
    "ReverseArray(A1)"
   ]
  },
  {
   "cell_type": "code",
   "execution_count": 13,
   "id": "ae106b9a",
   "metadata": {},
   "outputs": [
    {
     "data": {
      "text/plain": [
       "[-1, -2, -7, 4, 5, 3]"
      ]
     },
     "execution_count": 13,
     "metadata": {},
     "output_type": "execute_result"
    }
   ],
   "source": [
    "A2=[-1,3,-2,4,5,-7]\n",
    "SegNegLeft(A2)"
   ]
  },
  {
   "cell_type": "code",
   "execution_count": 33,
   "id": "9b26cdec",
   "metadata": {},
   "outputs": [
    {
     "name": "stdout",
     "output_type": "stream",
     "text": [
      "[1, 2, 3, 4]\n"
     ]
    },
    {
     "data": {
      "text/plain": [
       "[24, 12, 8, 6]"
      ]
     },
     "execution_count": 33,
     "metadata": {},
     "output_type": "execute_result"
    }
   ],
   "source": [
    "a=[1,2,3,4]\n",
    "\n",
    "l=MulNumExceptThatInd(a)\n",
    "l"
   ]
  },
  {
   "cell_type": "code",
   "execution_count": 15,
   "id": "629b1f7b",
   "metadata": {},
   "outputs": [
    {
     "name": "stdout",
     "output_type": "stream",
     "text": [
      "Required sum is present from  2  index to index 3\n"
     ]
    }
   ],
   "source": [
    "a=[10,2,-2,-20,10]\n",
    "k=-22\n",
    "ContiguousSubArraySum(a,k)"
   ]
  },
  {
   "cell_type": "code",
   "execution_count": 3,
   "id": "17589bad",
   "metadata": {},
   "outputs": [
    {
     "name": "stdout",
     "output_type": "stream",
     "text": [
      "3\n"
     ]
    }
   ],
   "source": [
    "print(CountSubArraySum([1,-1,1],1))"
   ]
  },
  {
   "cell_type": "code",
   "execution_count": 4,
   "id": "e1fd13bc",
   "metadata": {},
   "outputs": [
    {
     "data": {
      "text/plain": [
       "[0, 0, 1, 1, 1, 2]"
      ]
     },
     "execution_count": 4,
     "metadata": {},
     "output_type": "execute_result"
    }
   ],
   "source": [
    "l=[1,2,1,0,1,0]\n",
    "SortArrayMet2_0_1_2(l)"
   ]
  },
  {
   "cell_type": "code",
   "execution_count": 7,
   "id": "e9a107fa",
   "metadata": {},
   "outputs": [
    {
     "data": {
      "text/plain": [
       "[0, 0, 1, 1, 1, 2]"
      ]
     },
     "execution_count": 7,
     "metadata": {},
     "output_type": "execute_result"
    }
   ],
   "source": [
    "l=[1,2,1,0,1,0]\n",
    "sortMet2_0_1_2(l)"
   ]
  },
  {
   "cell_type": "code",
   "execution_count": 9,
   "id": "0a4602c7",
   "metadata": {},
   "outputs": [
    {
     "name": "stdout",
     "output_type": "stream",
     "text": [
      "[[1, 4], [6, 8], [8, 10]]\n"
     ]
    }
   ],
   "source": [
    "Interval=[[1,3],[2,4],[8,10],[6,8]]\n",
    "\n",
    "print(MergeInterval(Interval))"
   ]
  },
  {
   "cell_type": "code",
   "execution_count": 12,
   "id": "e4ba1e42",
   "metadata": {},
   "outputs": [
    {
     "name": "stdout",
     "output_type": "stream",
     "text": [
      "2\n"
     ]
    }
   ],
   "source": [
    "L=[1,2,3,4,2]\n",
    "print(RepeatNum(L))\n"
   ]
  },
  {
   "cell_type": "code",
   "execution_count": 71,
   "id": "dd5bbd7f",
   "metadata": {},
   "outputs": [
    {
     "name": "stdout",
     "output_type": "stream",
     "text": [
      "0\n",
      "0\n",
      "2\n",
      "1\n",
      "0\n",
      "0\n",
      "2\n",
      "2\n",
      "0\n",
      "0\n",
      "0\n",
      "2\n",
      "1\n",
      "0\n",
      "2\n",
      "3\n",
      "2\n",
      "6\n",
      "Inversion= 0\n"
     ]
    }
   ],
   "source": [
    "arr=[5,3,2,4,1]\n",
    "n=len(arr)\n",
    "temp=[0]*n\n",
    "left=0\n",
    "right=n-1\n",
    "print(\"Inversion=\",MergeSortIC(arr,temp,left,right))"
   ]
  },
  {
   "cell_type": "code",
   "execution_count": 9,
   "id": "746a0b12",
   "metadata": {},
   "outputs": [
    {
     "name": "stdout",
     "output_type": "stream",
     "text": [
      "5\n"
     ]
    }
   ],
   "source": [
    "print(n)"
   ]
  },
  {
   "cell_type": "code",
   "execution_count": 17,
   "id": "0b127603",
   "metadata": {},
   "outputs": [
    {
     "name": "stdout",
     "output_type": "stream",
     "text": [
      "{1: 0, 2: 0, 3: 0, 4: 0}\n",
      "miss= 3\n",
      "repeat= 2\n"
     ]
    }
   ],
   "source": [
    "MissRepeat([1,2,2,4,5])"
   ]
  },
  {
   "cell_type": "code",
   "execution_count": 5,
   "id": "0a540477",
   "metadata": {},
   "outputs": [
    {
     "name": "stdout",
     "output_type": "stream",
     "text": [
      "['abc', 'abc', 'abc', 'abc']\n",
      "{'abc': 4}\n"
     ]
    },
    {
     "data": {
      "text/plain": [
       "4"
      ]
     },
     "execution_count": 5,
     "metadata": {},
     "output_type": "execute_result"
    }
   ],
   "source": [
    "l=[\"abac\",\"abc\",\"cab\",\"abcc\"]\n",
    "CountEqualStrings(l)"
   ]
  },
  {
   "cell_type": "code",
   "execution_count": 6,
   "id": "2d6c6f0e",
   "metadata": {},
   "outputs": [
    {
     "data": {
      "text/plain": [
       "3"
      ]
     },
     "execution_count": 6,
     "metadata": {},
     "output_type": "execute_result"
    }
   ],
   "source": [
    "a=[9,2,10,13,12,11]\n",
    "MinDiffSubArray(a,len(a),4)"
   ]
  },
  {
   "cell_type": "code",
   "execution_count": null,
   "id": "013da1c0",
   "metadata": {},
   "outputs": [],
   "source": []
  }
 ],
 "metadata": {
  "kernelspec": {
   "display_name": "Python 3",
   "language": "python",
   "name": "python3"
  },
  "language_info": {
   "codemirror_mode": {
    "name": "ipython",
    "version": 3
   },
   "file_extension": ".py",
   "mimetype": "text/x-python",
   "name": "python",
   "nbconvert_exporter": "python",
   "pygments_lexer": "ipython3",
   "version": "3.8.3"
  }
 },
 "nbformat": 4,
 "nbformat_minor": 5
}
