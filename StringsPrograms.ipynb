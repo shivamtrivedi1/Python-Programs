{
 "cells": [
  {
   "cell_type": "code",
   "execution_count": 3,
   "id": "1f102cc1",
   "metadata": {},
   "outputs": [],
   "source": [
    "def RemovesDuplicates(str,n):\n",
    "    Set=set()\n",
    "    res_str=\"\"\n",
    "    for s in str:\n",
    "        Set.add(s);\n",
    "    for x in Set:\n",
    "        res_str+=x\n",
    "\n",
    "    return res_str;\n",
    "\n",
    "def SortString(str):\n",
    "    sort_str_ls=sorted(str)\n",
    "    print(sort_str_ls)\n",
    "    sort_str=''.join(sort_str_ls)\n",
    "    return sort_str;\n",
    "\n",
    "def CountEqualStrings(arr):\n",
    "    max_count=0\n",
    "    d1={}\n",
    "    for i in range(len(arr)):\n",
    "        arr[i]=RemovesDuplicates(arr[i],len(arr[i]))\n",
    "    for i in range(len(arr)):\n",
    "        arr[i] =SortString(arr[i])\n",
    "    print(arr)    \n",
    "        \n",
    "    for x in arr:\n",
    "        if x in d1:\n",
    "            d1[x]+=1\n",
    "        else:\n",
    "            d1[x]=1\n",
    "    for key,values in d1.items():\n",
    "        if d1[key]>max_count:\n",
    "            max_count=d1[key]\n",
    "    print(d1)        \n",
    "    return max_count;\n",
    "\n",
    "def SwapCaseString(string):\n",
    "    s_new=\"\"\n",
    "    for ch in string:\n",
    "        if(ch.isupper()):\n",
    "            s_new+=\"\".join(chr(ord(ch)+32))\n",
    "        else:\n",
    "            s_new+=\"\".join(chr(ord(ch)-32))\n",
    "    return s_new\n",
    "            \n",
    "            \n",
    "def RemoveDuplicateConsecutiveChar(s):\n",
    "    res=\"\"\n",
    "    prev_char=' '\n",
    "    for ch in s:\n",
    "        if ch!=prev_char:\n",
    "            res+=ch\n",
    "        prev_char=ch\n",
    "    return res;\n",
    "        "
   ]
  },
  {
   "cell_type": "code",
   "execution_count": 3,
   "id": "dc36afcd",
   "metadata": {},
   "outputs": [],
   "source": [
    "def  SwapCase(string):\n",
    "    res=\"\"\n",
    "    for ch in string:\n",
    "        if(ch.isupper()):\n",
    "            res+=(chr)(ord(ch)+32)\n",
    "        else:\n",
    "            res+=(chr)(ord(ch)-32) \n",
    "    return res"
   ]
  },
  {
   "cell_type": "code",
   "execution_count": 4,
   "id": "8baaca74",
   "metadata": {},
   "outputs": [
    {
     "name": "stdout",
     "output_type": "stream",
     "text": [
      "sHIvAm\n"
     ]
    }
   ],
   "source": [
    "print(SwapCase(\"ShiVaM\"))"
   ]
  },
  {
   "cell_type": "code",
   "execution_count": null,
   "id": "39d6c8a0",
   "metadata": {},
   "outputs": [],
   "source": []
  },
  {
   "cell_type": "code",
   "execution_count": null,
   "id": "bb4b36cd",
   "metadata": {},
   "outputs": [],
   "source": []
  },
  {
   "cell_type": "code",
   "execution_count": null,
   "id": "93acb337",
   "metadata": {},
   "outputs": [],
   "source": []
  },
  {
   "cell_type": "code",
   "execution_count": null,
   "id": "c8d93746",
   "metadata": {},
   "outputs": [],
   "source": []
  },
  {
   "cell_type": "code",
   "execution_count": null,
   "id": "254c7917",
   "metadata": {},
   "outputs": [],
   "source": []
  },
  {
   "cell_type": "code",
   "execution_count": 30,
   "id": "b25b9750",
   "metadata": {},
   "outputs": [
    {
     "name": "stdout",
     "output_type": "stream",
     "text": [
      "['a', 'b', 'c']\n",
      "['a', 'b', 'c']\n",
      "['a', 'b', 'c']\n",
      "['a', 'b', 'd']\n",
      "['a', 'b', 'd']\n",
      "['a', 'b', 'd']\n",
      "['a', 'b', 'd']\n",
      "['abc', 'abc', 'abc', 'abd', 'abd', 'abd', 'abd']\n",
      "{'abc': 3, 'abd': 4}\n"
     ]
    },
    {
     "data": {
      "text/plain": [
       "4"
      ]
     },
     "execution_count": 30,
     "metadata": {},
     "output_type": "execute_result"
    }
   ],
   "source": [
    "l=[\"abac\",\"abc\",\"cab\",\"abd\",\"dab\",\"bad\",\"adb\"]\n",
    "CountEqualStrings(l)"
   ]
  },
  {
   "cell_type": "code",
   "execution_count": 5,
   "id": "2cbaef29",
   "metadata": {},
   "outputs": [
    {
     "data": {
      "text/plain": [
       "'sHIVam'"
      ]
     },
     "execution_count": 5,
     "metadata": {},
     "output_type": "execute_result"
    }
   ],
   "source": [
    "SwapCaseString(\"ShivAM\")"
   ]
  },
  {
   "cell_type": "code",
   "execution_count": 7,
   "id": "dc9de01f",
   "metadata": {},
   "outputs": [
    {
     "name": "stdout",
     "output_type": "stream",
     "text": [
      "apxple\n"
     ]
    }
   ],
   "source": [
    "print(RemoveDuplicateConsecutiveChar(\"apxplee\"))"
   ]
  },
  {
   "cell_type": "code",
   "execution_count": null,
   "id": "3573b4ec",
   "metadata": {},
   "outputs": [],
   "source": []
  }
 ],
 "metadata": {
  "kernelspec": {
   "display_name": "Python 3",
   "language": "python",
   "name": "python3"
  },
  "language_info": {
   "codemirror_mode": {
    "name": "ipython",
    "version": 3
   },
   "file_extension": ".py",
   "mimetype": "text/x-python",
   "name": "python",
   "nbconvert_exporter": "python",
   "pygments_lexer": "ipython3",
   "version": "3.8.3"
  }
 },
 "nbformat": 4,
 "nbformat_minor": 5
}
