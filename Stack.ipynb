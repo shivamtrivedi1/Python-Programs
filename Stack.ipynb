{
 "cells": [
  {
   "cell_type": "code",
   "execution_count": 22,
   "id": "d002aada",
   "metadata": {},
   "outputs": [
    {
     "name": "stdout",
     "output_type": "stream",
     "text": [
      "Enter the size of stack5\n"
     ]
    }
   ],
   "source": [
    "#Implement Stack Using Array\n",
    "stk=[]\n",
    "top=-1\n",
    "n=int(input(\"Enter the size of stack\"))\n",
    "def Push(x):\n",
    "    global top\n",
    "    \n",
    "    if top>=n-1:\n",
    "        print(\"Stack Overflow\");\n",
    "        \n",
    "    else:\n",
    "        \n",
    "        top+=1;\n",
    "        \n",
    "        stk.append(x)\n",
    "        \n",
    "        \n",
    "def Pop():\n",
    "    global top\n",
    "    if top==-1:\n",
    "        print(\"Stack Underflow\")\n",
    "    else:\n",
    "        ele=stk[top];\n",
    "        top=top-1;\n",
    "def display():\n",
    "    if top>=0:\n",
    "        for i in range(top,-1,-1):\n",
    "            print(f\"{stk[i]}\");\n",
    "    else:\n",
    "        print(\"Stack is empty\")\n",
    "        "
   ]
  },
  {
   "cell_type": "code",
   "execution_count": 23,
   "id": "4be6a519",
   "metadata": {},
   "outputs": [],
   "source": [
    "#Implement Stack Using Linked List\n",
    "class Node:\n",
    "    def __init__(self,data):\n",
    "        self.data=data;\n",
    "        self.next=None;\n",
    "\n",
    "class StackLinkedList:\n",
    "    def __init__(self):\n",
    "        self.top=None;\n",
    "    def Push(self,data):\n",
    "        node =Node(data);\n",
    "        node.next=self.top\n",
    "        self.top=node\n",
    "    def Pop(self):\n",
    "        if(self.top is None):\n",
    "            print(\"Stack Uderflow\")\n",
    "        else:\n",
    "            x=self.top.data\n",
    "            self.top=self.top.next\n",
    "            print(\"Deleted item is=\",x)\n",
    "        \n",
    "        \n",
    "    def display(self):\n",
    "        temp=self.top\n",
    "        while(temp is not None):\n",
    "            print(temp.data)\n",
    "            temp=temp.next\n",
    "        "
   ]
  },
  {
   "cell_type": "code",
   "execution_count": 24,
   "id": "f4af775f",
   "metadata": {},
   "outputs": [
    {
     "name": "stdout",
     "output_type": "stream",
     "text": [
      "4\n",
      "7\n",
      "5\n"
     ]
    }
   ],
   "source": [
    "Push(5)\n",
    "Push(7)\n",
    "Push(4)\n",
    "\n",
    "display()"
   ]
  },
  {
   "cell_type": "code",
   "execution_count": 57,
   "id": "9bfd32a3",
   "metadata": {},
   "outputs": [],
   "source": [
    "\n",
    "top=-1\n",
    "def BalancedParenthesis(s):\n",
    "    stk=[]\n",
    "    \n",
    "    brdic={')':'(',']':'[','}':'{'}\n",
    "    for br in s:\n",
    "        if br in brdic:\n",
    "            if stk and stk[-1]==brdic[br]:\n",
    "                stk.pop()\n",
    "            else:\n",
    "                return False\n",
    "        else:\n",
    "            stk.append(br)\n",
    "    return True if not stk else False;\n",
    "\n",
    "                \n",
    "            "
   ]
  },
  {
   "cell_type": "code",
   "execution_count": 63,
   "id": "bb1e4c2f",
   "metadata": {},
   "outputs": [
    {
     "data": {
      "text/plain": [
       "False"
      ]
     },
     "execution_count": 63,
     "metadata": {},
     "output_type": "execute_result"
    }
   ],
   "source": [
    "BalancedParenthesis('()[{]()')"
   ]
  },
  {
   "cell_type": "code",
   "execution_count": 18,
   "id": "2da1d449",
   "metadata": {},
   "outputs": [
    {
     "name": "stdout",
     "output_type": "stream",
     "text": [
      "Deleted item is= 6\n",
      "5\n"
     ]
    }
   ],
   "source": [
    "slinked_list=StackLinkedList()\n",
    "slinked_list.Push(5)\n",
    "slinked_list.Push(6)\n",
    "slinked_list.Pop()\n",
    "slinked_list.display()"
   ]
  },
  {
   "cell_type": "code",
   "execution_count": 19,
   "id": "a9f1a663",
   "metadata": {},
   "outputs": [
    {
     "name": "stdout",
     "output_type": "stream",
     "text": [
      "Deleted item is= 5\n"
     ]
    }
   ],
   "source": [
    "slinked_list.Pop()\n"
   ]
  },
  {
   "cell_type": "code",
   "execution_count": 20,
   "id": "2d1cb15b",
   "metadata": {},
   "outputs": [
    {
     "name": "stdout",
     "output_type": "stream",
     "text": [
      "Stack Uderflow\n"
     ]
    }
   ],
   "source": [
    "slinked_list.Pop()"
   ]
  },
  {
   "cell_type": "code",
   "execution_count": null,
   "id": "e97c5035",
   "metadata": {},
   "outputs": [],
   "source": []
  }
 ],
 "metadata": {
  "kernelspec": {
   "display_name": "Python 3",
   "language": "python",
   "name": "python3"
  },
  "language_info": {
   "codemirror_mode": {
    "name": "ipython",
    "version": 3
   },
   "file_extension": ".py",
   "mimetype": "text/x-python",
   "name": "python",
   "nbconvert_exporter": "python",
   "pygments_lexer": "ipython3",
   "version": "3.8.3"
  }
 },
 "nbformat": 4,
 "nbformat_minor": 5
}
