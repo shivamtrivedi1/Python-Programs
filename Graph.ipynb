{
 "cells": [
  {
   "cell_type": "markdown",
   "id": "e9dfb09e",
   "metadata": {},
   "source": [
    "# Adjacency List"
   ]
  },
  {
   "cell_type": "code",
   "execution_count": 45,
   "id": "ce29667e",
   "metadata": {},
   "outputs": [],
   "source": [
    "class Graph:\n",
    "    def __init__(self,nodes,is_directed=False):\n",
    "        self.nodes=nodes\n",
    "        self.adj_lst={}\n",
    "        self.is_directed=is_directed\n",
    "        for node in self.nodes:\n",
    "            self.adj_lst[node]=[]\n",
    "    def PrintAdjLst(self):\n",
    "        for node in self.nodes:\n",
    "            print(node,\"->\",self.adj_lst[node])\n",
    "    def AddEdge(self,u,v):\n",
    "        self.adj_lst[u].append(v)\n",
    "        if not self.is_directed:\n",
    "            self.adj_lst[v].append(u)\n",
    "    def DegreeVertex(self,node):\n",
    "        deg=len(self.adj_lst[node])\n",
    "        return deg\n",
    "        \n",
    "        \n",
    "        "
   ]
  },
  {
   "cell_type": "code",
   "execution_count": 46,
   "id": "0ee60059",
   "metadata": {},
   "outputs": [
    {
     "name": "stdout",
     "output_type": "stream",
     "text": [
      "A -> []\n",
      "B -> []\n",
      "C -> []\n",
      "D -> []\n",
      "E -> []\n"
     ]
    }
   ],
   "source": [
    "nodes=[\"A\",\"B\",\"C\",\"D\",\"E\"]\n",
    "g1=Graph(nodes)\n",
    "\n",
    "g1.PrintAdjLst()"
   ]
  },
  {
   "cell_type": "code",
   "execution_count": 47,
   "id": "84f7f201",
   "metadata": {},
   "outputs": [],
   "source": [
    "edge=[(\"A\",\"B\"),(\"A\",\"C\"),(\"B\",\"D\"),(\"C\",\"D\"),(\"C\",\"E\"),(\"D\",\"E\")]\n",
    "for u,v in edge:\n",
    "    g1.AddEdge(u,v)"
   ]
  },
  {
   "cell_type": "code",
   "execution_count": 48,
   "id": "0f0a289d",
   "metadata": {},
   "outputs": [
    {
     "name": "stdout",
     "output_type": "stream",
     "text": [
      "A -> ['B', 'C']\n",
      "B -> ['A', 'D']\n",
      "C -> ['A', 'D', 'E']\n",
      "D -> ['B', 'C', 'E']\n",
      "E -> ['C', 'D']\n"
     ]
    }
   ],
   "source": [
    "g1.PrintAdjLst()"
   ]
  },
  {
   "cell_type": "code",
   "execution_count": 49,
   "id": "66f2384a",
   "metadata": {},
   "outputs": [
    {
     "name": "stdout",
     "output_type": "stream",
     "text": [
      "Degree of  A is 2\n",
      "Degree of  B is 2\n",
      "Degree of  C is 3\n",
      "Degree of  D is 3\n",
      "Degree of  E is 2\n"
     ]
    }
   ],
   "source": [
    "for node in nodes:\n",
    "    print(\"Degree of \",node,\"is\",g1.DegreeVertex(node))"
   ]
  },
  {
   "cell_type": "code",
   "execution_count": 51,
   "id": "4a949406",
   "metadata": {},
   "outputs": [
    {
     "name": "stdout",
     "output_type": "stream",
     "text": [
      "A -> []\n",
      "B -> []\n",
      "C -> []\n",
      "D -> []\n",
      "E -> []\n"
     ]
    }
   ],
   "source": [
    "nodes=[\"A\",\"B\",\"C\",\"D\",\"E\"]\n",
    "g2=Graph(nodes,is_directed=True)\n",
    "\n",
    "g2.PrintAdjLst()"
   ]
  },
  {
   "cell_type": "code",
   "execution_count": 52,
   "id": "5bf6c7f8",
   "metadata": {},
   "outputs": [],
   "source": [
    "edge=[(\"A\",\"B\"),(\"A\",\"C\"),(\"B\",\"D\"),(\"C\",\"D\"),(\"C\",\"E\"),(\"D\",\"E\")]\n",
    "for u,v in edge:\n",
    "    g2.AddEdge(u,v)"
   ]
  },
  {
   "cell_type": "code",
   "execution_count": 53,
   "id": "36bc03d9",
   "metadata": {},
   "outputs": [
    {
     "name": "stdout",
     "output_type": "stream",
     "text": [
      "A -> ['B', 'C']\n",
      "B -> ['D']\n",
      "C -> ['D', 'E']\n",
      "D -> ['E']\n",
      "E -> []\n"
     ]
    }
   ],
   "source": [
    "g2.PrintAdjLst()"
   ]
  },
  {
   "cell_type": "markdown",
   "id": "7ccdd03c",
   "metadata": {},
   "source": [
    "# Breadth First Search"
   ]
  },
  {
   "cell_type": "code",
   "execution_count": 1,
   "id": "ee3daa74",
   "metadata": {},
   "outputs": [],
   "source": [
    "adj_list={\"A\":[\"B\",\"D\"],\"B\":[\"A\",\"C\"],\"C\":[\"B\"],\"D\":[\"A\",\"E\",\"F\"],\"E\":[\"D\",\"F\",\"G\"],\"F\":[\"D\",\"E\",\"H\"],\"G\":[\"E\",\"H\"],\"H\":[\"G\",\"F\"]}"
   ]
  },
  {
   "cell_type": "code",
   "execution_count": 2,
   "id": "7896b899",
   "metadata": {},
   "outputs": [],
   "source": [
    "from queue import Queue\n",
    "visited={} #key=node and value=True/False\n",
    "level={} # key=node and value=distance from start node\n",
    "queue=Queue()\n",
    "parent={} #key=node and value=parent\n",
    "bfs_traverse=[]"
   ]
  },
  {
   "cell_type": "code",
   "execution_count": 3,
   "id": "7b1d5f46",
   "metadata": {},
   "outputs": [],
   "source": [
    "for node in adj_list.keys():\n",
    "    visited[node]=False\n",
    "    parent[node]=None\n",
    "    level[node]=-1"
   ]
  },
  {
   "cell_type": "code",
   "execution_count": 4,
   "id": "1a3490cf",
   "metadata": {},
   "outputs": [
    {
     "name": "stdout",
     "output_type": "stream",
     "text": [
      "{'A': False, 'B': False, 'C': False, 'D': False, 'E': False, 'F': False, 'G': False, 'H': False}\n",
      "{'A': None, 'B': None, 'C': None, 'D': None, 'E': None, 'F': None, 'G': None, 'H': None}\n",
      "{'A': -1, 'B': -1, 'C': -1, 'D': -1, 'E': -1, 'F': -1, 'G': -1, 'H': -1}\n"
     ]
    }
   ],
   "source": [
    "print(visited)\n",
    "print(parent)\n",
    "print(level)\n"
   ]
  },
  {
   "cell_type": "code",
   "execution_count": 5,
   "id": "3256f971",
   "metadata": {},
   "outputs": [],
   "source": [
    "s=\"A\"\n",
    "queue.put(s)\n",
    "visited[s]=True\n",
    "level[s]=0"
   ]
  },
  {
   "cell_type": "code",
   "execution_count": 6,
   "id": "956d75ae",
   "metadata": {},
   "outputs": [
    {
     "name": "stdout",
     "output_type": "stream",
     "text": [
      "{'A': True, 'B': False, 'C': False, 'D': False, 'E': False, 'F': False, 'G': False, 'H': False}\n",
      "{'A': None, 'B': None, 'C': None, 'D': None, 'E': None, 'F': None, 'G': None, 'H': None}\n",
      "{'A': 0, 'B': -1, 'C': -1, 'D': -1, 'E': -1, 'F': -1, 'G': -1, 'H': -1}\n"
     ]
    }
   ],
   "source": [
    "print(visited)\n",
    "print(parent)\n",
    "print(level)"
   ]
  },
  {
   "cell_type": "code",
   "execution_count": 7,
   "id": "bbe3407b",
   "metadata": {},
   "outputs": [
    {
     "name": "stdout",
     "output_type": "stream",
     "text": [
      "['A', 'B', 'D', 'C', 'E', 'F', 'G', 'H']\n"
     ]
    }
   ],
   "source": [
    "while not queue.empty():\n",
    "    u=queue.get()\n",
    "    bfs_traverse.append(u)\n",
    "    for v in adj_list[u]:\n",
    "        if visited[v]==False:\n",
    "            visited[v]=True\n",
    "            level[v]=level[u]+1\n",
    "            parent[v]=u\n",
    "            queue.put(v)\n",
    "    \n",
    "    \n",
    "        \n",
    "print(bfs_traverse)    "
   ]
  },
  {
   "cell_type": "code",
   "execution_count": 8,
   "id": "46c2d657",
   "metadata": {},
   "outputs": [
    {
     "name": "stdout",
     "output_type": "stream",
     "text": [
      "{'A': 0, 'B': 1, 'C': 2, 'D': 1, 'E': 2, 'F': 2, 'G': 3, 'H': 3}\n"
     ]
    }
   ],
   "source": [
    "#Shortest distance of all nodes from source nodes\n",
    "print(level)"
   ]
  },
  {
   "cell_type": "code",
   "execution_count": 12,
   "id": "67b3b0f3",
   "metadata": {},
   "outputs": [
    {
     "name": "stdout",
     "output_type": "stream",
     "text": [
      "['A', 'D', 'E', 'G']\n"
     ]
    }
   ],
   "source": [
    "#Shortest Path of any node from source node\n",
    "v=\"G\"\n",
    "path=[]\n",
    "while v:\n",
    "    path.append(v)\n",
    "    v=parent[v]\n",
    "path.reverse()\n",
    "print(path)\n"
   ]
  },
  {
   "cell_type": "markdown",
   "id": "4e0d9065",
   "metadata": {},
   "source": [
    "# Depth First Search"
   ]
  },
  {
   "cell_type": "code",
   "execution_count": 15,
   "id": "ba63fcd5",
   "metadata": {},
   "outputs": [],
   "source": [
    "adj_list={\"A\":[\"B\",\"C\"],\"B\":[\"D\",\"E\"],\"C\":[\"B\",\"F\"],\"D\":[],\"E\":[\"F\"],\"F\":[]}"
   ]
  },
  {
   "cell_type": "markdown",
   "id": "50725b16",
   "metadata": {},
   "source": [
    "###### "
   ]
  },
  {
   "cell_type": "code",
   "execution_count": null,
   "id": "86d1d090",
   "metadata": {},
   "outputs": [],
   "source": []
  }
 ],
 "metadata": {
  "kernelspec": {
   "display_name": "Python 3",
   "language": "python",
   "name": "python3"
  },
  "language_info": {
   "codemirror_mode": {
    "name": "ipython",
    "version": 3
   },
   "file_extension": ".py",
   "mimetype": "text/x-python",
   "name": "python",
   "nbconvert_exporter": "python",
   "pygments_lexer": "ipython3",
   "version": "3.8.3"
  }
 },
 "nbformat": 4,
 "nbformat_minor": 5
}
